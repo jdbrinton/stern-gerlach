{
  "nbformat": 4,
  "nbformat_minor": 0,
  "metadata": {
    "colab": {
      "provenance": []
    },
    "kernelspec": {
      "name": "python3",
      "display_name": "Python 3"
    },
    "language_info": {
      "name": "python"
    }
  },
  "cells": [
    {
      "cell_type": "code",
      "execution_count": 1,
      "metadata": {
        "id": "8SFivws3EtPI"
      },
      "outputs": [],
      "source": [
        "import numpy as np\n",
        "import matplotlib.pyplot as plt\n",
        "import torch\n",
        "from matplotlib.animation import FuncAnimation\n"
      ]
    },
    {
      "cell_type": "code",
      "source": [
        "# Physical constants\n",
        "hbar = 1.054571817e-34  # Reduced Planck's constant (J·s)\n",
        "m_e = 9.10938356e-31    # Electron mass (kg)\n",
        "mu_B = 9.274009994e-24  # Bohr magneton (J/T)\n",
        "\n",
        "# Simulation parameters\n",
        "nx, ny = 200, 200       # Number of spatial grid points\n",
        "dx, dy = 1e-9, 1e-9     # Spatial resolution (m)\n",
        "dt = 4e-16              # Time step (s)\n",
        "nt = 2800                # Number of time steps\n",
        "\n",
        "# Magnetic field parameters\n",
        "B0 = 1.5                # Base magnetic field (T)\n",
        "G = 8e9                 # Magnetic field gradient (T/m)\n",
        "\n",
        "# Initial electron parameters\n",
        "x0, y0 = 50e-9, 100e-9  # Initial position (m)\n",
        "sigma_x = sigma_y = 5e-9  # Initial wavepacket spread (m)\n",
        "p0 = np.array([1e5 * m_e, 0.0])  # Initial momentum (kg·m/s)\n"
      ],
      "metadata": {
        "id": "LHPeed5wExRm"
      },
      "execution_count": 2,
      "outputs": []
    },
    {
      "cell_type": "code",
      "source": [
        "# Create spatial grids\n",
        "x = np.linspace(0, (nx - 1) * dx, nx)\n",
        "y = np.linspace(0, (ny - 1) * dy, ny)\n",
        "X, Y = np.meshgrid(x, y, indexing='ij')\n",
        "\n",
        "# Convert grids to torch tensors\n",
        "X_torch = torch.from_numpy(X).float()\n",
        "Y_torch = torch.from_numpy(Y).float()\n"
      ],
      "metadata": {
        "id": "bAyszGBNExs9"
      },
      "execution_count": 3,
      "outputs": []
    },
    {
      "cell_type": "code",
      "source": [
        "# Initialize the spinor wavefunction ψ = [ψ_up, ψ_down]^T\n",
        "# Start with a Gaussian wavepacket centered at (x0, y0)\n",
        "def gaussian_wavepacket(x, y, x0, y0, sigma_x, sigma_y, p0):\n",
        "    exponent = -((x - x0)**2 / (2 * sigma_x**2) + (y - y0)**2 / (2 * sigma_y**2))\n",
        "    phase = (p0[0] * (x - x0) + p0[1] * (y - y0)) / hbar\n",
        "    envelope = torch.exp(torch.tensor(exponent, dtype=torch.float32))\n",
        "    phase_factor = torch.exp(1j * torch.tensor(phase, dtype=torch.float32))\n",
        "    return envelope * phase_factor\n",
        "\n",
        "# Initial spinor components (equal superposition)\n",
        "psi_up = gaussian_wavepacket(X_torch, Y_torch, x0, y0, sigma_x, sigma_y, p0) / np.sqrt(2)\n",
        "psi_down = gaussian_wavepacket(X_torch, Y_torch, x0, y0, sigma_x, sigma_y, p0) / np.sqrt(2)\n",
        "\n",
        "# Combine into a single tensor\n",
        "psi = torch.stack([psi_up, psi_down], dim=-1)  # Shape: (nx, ny, 2)\n"
      ],
      "metadata": {
        "colab": {
          "base_uri": "https://localhost:8080/"
        },
        "id": "5byCklX1E0pF",
        "outputId": "cf4201de-fff6-40c0-cd06-4e57deffdbe2"
      },
      "execution_count": 4,
      "outputs": [
        {
          "output_type": "stream",
          "name": "stderr",
          "text": [
            "<ipython-input-4-fe4d09517fe2>:6: UserWarning: To copy construct from a tensor, it is recommended to use sourceTensor.clone().detach() or sourceTensor.clone().detach().requires_grad_(True), rather than torch.tensor(sourceTensor).\n",
            "  envelope = torch.exp(torch.tensor(exponent, dtype=torch.float32))\n",
            "<ipython-input-4-fe4d09517fe2>:7: UserWarning: To copy construct from a tensor, it is recommended to use sourceTensor.clone().detach() or sourceTensor.clone().detach().requires_grad_(True), rather than torch.tensor(sourceTensor).\n",
            "  phase_factor = torch.exp(1j * torch.tensor(phase, dtype=torch.float32))\n"
          ]
        }
      ]
    },
    {
      "cell_type": "code",
      "source": [
        "# Define the kinetic operator using finite differences\n",
        "kx = torch.fft.fftfreq(nx, d=dx) * 2 * np.pi\n",
        "ky = torch.fft.fftfreq(ny, d=dy) * 2 * np.pi\n",
        "KX, KY = torch.meshgrid(kx, ky, indexing='ij')\n",
        "K_squared = KX**2 + KY**2\n",
        "\n",
        "# Kinetic energy operator in momentum space\n",
        "T_operator = torch.exp(-1j * hbar * K_squared * dt / (2 * m_e))\n",
        "\n",
        "# Magnetic field along z with gradient in y\n",
        "Bz = B0 + G * (Y_torch - y0)\n",
        "\n",
        "# Pauli matrices\n",
        "sigma_z = torch.tensor([[1, 0], [0, -1]], dtype=torch.cfloat)\n",
        "\n",
        "# Potential energy operator due to magnetic field\n",
        "V = -mu_B * Bz.unsqueeze(-1).unsqueeze(-1) * sigma_z  # Shape: (nx, ny, 2, 2)\n",
        "\n",
        "# Exponential of the potential energy operator\n",
        "V_operator = torch.linalg.matrix_exp(-1j * V * dt / hbar)\n"
      ],
      "metadata": {
        "id": "QvEgBPudE2BB"
      },
      "execution_count": 5,
      "outputs": []
    },
    {
      "cell_type": "code",
      "source": [
        "# Prepare figure and axis for animation\n",
        "fig, ax = plt.subplots(figsize=(8, 6))\n",
        "extent = (0, nx*dx*1e9, 0, ny*dy*1e9)  # Convert to nm or mm as needed\n",
        "\n",
        "# Initialize the image with the first frame\n",
        "prob_density = (psi.conj() * psi).real.sum(dim=-1)\n",
        "prob_density /= prob_density.max() + 1e-16  # Normalize\n",
        "im = ax.imshow(prob_density.numpy(),\n",
        "               extent=extent,\n",
        "               origin='lower',\n",
        "               aspect='auto',\n",
        "               cmap='viridis',\n",
        "               vmin=0, vmax=1)  # Set color limits\n",
        "ax.set_xlabel('z position (nm)')\n",
        "ax.set_ylabel('y position (nm)')\n",
        "title = ax.set_title('')\n",
        "\n",
        "# Function to update each frame\n",
        "def animate(t):\n",
        "    global psi\n",
        "\n",
        "    for _ in range(50):  # Update 50 steps per frame\n",
        "        # Apply potential operator (spin-dependent)\n",
        "        psi = torch.einsum('...ab,...b->...a', V_operator, psi)\n",
        "\n",
        "        # Fourier transform to momentum space\n",
        "        psi_ft = torch.fft.fft2(psi, dim=(0, 1))\n",
        "\n",
        "        # Apply kinetic operator\n",
        "        psi_ft[..., 0] *= T_operator\n",
        "        psi_ft[..., 1] *= T_operator\n",
        "\n",
        "        # Inverse Fourier transform back to position space\n",
        "        psi = torch.fft.ifft2(psi_ft, dim=(0, 1))\n",
        "\n",
        "    # Calculate probability density\n",
        "    prob_density = (psi.conj() * psi).real.sum(dim=-1)\n",
        "\n",
        "    # Normalize the probability density\n",
        "    prob_density /= prob_density.max() + 1e-16  # Add small number to prevent division by zero\n",
        "\n",
        "    # Update image data\n",
        "    im.set_data(prob_density.numpy())\n",
        "    # Color limits are already set to [0, 1], no need to update clim\n",
        "    title.set_text(f'Time: {t * 50 * dt * 1e15:.1f} fs')\n",
        "    return [im, title]\n",
        "\n",
        "# Create the animation\n",
        "frames = nt // 50  # Number of frames\n",
        "anim = FuncAnimation(fig, animate, frames=frames, interval=50, blit=True)\n",
        "\n",
        "# Save the animation as a GIF\n",
        "anim.save('stern_gerlach_simulation.gif', writer='pillow', fps=10)\n",
        "\n",
        "plt.close()"
      ],
      "metadata": {
        "id": "T8PtAgYOE6b1"
      },
      "execution_count": 6,
      "outputs": []
    },
    {
      "cell_type": "code",
      "source": [],
      "metadata": {
        "id": "raOPzD6DHGw2"
      },
      "execution_count": 6,
      "outputs": []
    }
  ]
}